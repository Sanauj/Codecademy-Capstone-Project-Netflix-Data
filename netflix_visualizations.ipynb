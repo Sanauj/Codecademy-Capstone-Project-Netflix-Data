{
 "cells": [
  {
   "cell_type": "markdown",
   "metadata": {},
   "source": [
    "# Introduction\n",
    "\n",
    "In this project, you will act as a data visualization developer at Yahoo Finance! You will be helping the \"Netflix Stock Profile\" team visualize the Netflix stock data. In finance, a _stock profile_ is a series of studies, visualizations, and analyses that dive into different aspects a publicly traded company's data. \n",
    "\n",
    "For the purposes of the project, you will only visualize data for the year of 2017. Specifically, you will be in charge of creating the following visualizations:\n",
    "+ The distribution of the stock prices for the past year\n",
    "+ Netflix's earnings and revenue in the last four quarters\n",
    "+ The actual vs. estimated earnings per share for the four quarters in 2017\n",
    "+ A comparison of the Netflix Stock price vs the Dow Jones Industrial Average price in 2017 \n",
    "\n",
    "Note: We are using the Dow Jones Industrial Average to compare the Netflix stock to the larter stock market. Learn more about why the Dow Jones Industrial Average is a general reflection of the larger stock market [here](https://www.investopedia.com/terms/d/djia.asp).\n",
    "\n",
    "During this project, you will analyze, prepare, and plot data. Your visualizations will help the financial analysts asses the risk of the Netflix stock.\n",
    "\n",
    "After you complete your visualizations, you'll be creating a presentation to share the images with the rest of the Netflix Stock Profile team. Your slides should include:\n",
    "\n",
    "- A title slide\n",
    "- A list of your visualizations and your role in their creation for the \"Stock Profile\" team\n",
    "- A visualization of the distribution of the stock prices for Netflix in 2017\n",
    "- A visualization and a summary of Netflix stock and revenue for the past four quarters and a summary\n",
    "- A visualization and a brief summary of their earned versus actual earnings per share\n",
    "- A visualization of Netflix stock against the Dow Jones stock (to get a sense of the market) in 2017\n",
    "\n",
    "Financial Data Source: [Yahoo Finance](https://finance.yahoo.com/quote/DATA/)\n"
   ]
  },
  {
   "cell_type": "markdown",
   "metadata": {},
   "source": [
    "## Step 1\n",
    "\n",
    "Let's get our notebook ready for visualizing! Import the modules that you'll be using in this project:\n",
    "- `from matplotlib import pyplot as plt`\n",
    "- `import pandas as pd`\n",
    "- `import seaborn as sns`"
   ]
  },
  {
   "cell_type": "code",
   "execution_count": 78,
   "metadata": {},
   "outputs": [],
   "source": [
    "from matplotlib import pyplot as plt\n",
    "import seaborn as sns\n",
    "import pandas as pd\n"
   ]
  },
  {
   "cell_type": "markdown",
   "metadata": {},
   "source": [
    "## Step 2"
   ]
  },
  {
   "cell_type": "markdown",
   "metadata": {},
   "source": [
    "Let's load the datasets and inspect them."
   ]
  },
  {
   "cell_type": "markdown",
   "metadata": {},
   "source": [
    "Load **NFLX.csv** into a DataFrame called `netflix_stocks`. Then, quickly inspect the DataFrame using `print()`.\n",
    "\n",
    "Hint: Use the `pd.read_csv()`function).\n",
    "\n",
    "Note: In the Yahoo Data, `Adj Close` represents the adjusted close price adjusted for both dividends and splits. This means this is the true closing stock price for a given business day."
   ]
  },
  {
   "cell_type": "code",
   "execution_count": 79,
   "metadata": {},
   "outputs": [
    {
     "name": "stdout",
     "output_type": "stream",
     "text": [
      "         Date        Open        High         Low       Close   Adj Close  \\\n",
      "0  2017-01-01  124.959999  143.460007  124.309998  140.710007  140.710007   \n",
      "1  2017-02-01  141.199997  145.949997  139.050003  142.130005  142.130005   \n",
      "2  2017-03-01  142.839996  148.289993  138.259995  147.809998  147.809998   \n",
      "3  2017-04-01  146.699997  153.520004  138.660004  152.199997  152.199997   \n",
      "4  2017-05-01  151.910004  164.750000  151.610001  163.070007  163.070007   \n",
      "\n",
      "      Volume  \n",
      "0  181772200  \n",
      "1   91432000  \n",
      "2  110692700  \n",
      "3  149769200  \n",
      "4  116795800  \n"
     ]
    }
   ],
   "source": [
    "netflix_stocks = pd.read_csv(\"NFLX.csv\")\n",
    "print(netflix_stocks.head())"
   ]
  },
  {
   "cell_type": "markdown",
   "metadata": {},
   "source": [
    "Load **DJI.csv** into a DataFrame called `dowjones_stocks`. Then, quickly inspect the DataFrame using `print()`.\n",
    "\n",
    "Note: You can learn more about why the Dow Jones Industrial Average is a industry reflection of the larger stock market [here](https://www.investopedia.com/terms/d/djia.asp). \n"
   ]
  },
  {
   "cell_type": "code",
   "execution_count": 80,
   "metadata": {},
   "outputs": [
    {
     "name": "stdout",
     "output_type": "stream",
     "text": [
      "         Date          Open          High           Low         Close  \\\n",
      "0  2017-01-01  19872.859375  20125.580078  19677.939453  19864.089844   \n",
      "1  2017-02-01  19923.810547  20851.330078  19831.089844  20812.240234   \n",
      "2  2017-03-01  20957.289063  21169.109375  20412.800781  20663.220703   \n",
      "3  2017-04-01  20665.169922  21070.900391  20379.550781  20940.509766   \n",
      "4  2017-05-01  20962.730469  21112.320313  20553.449219  21008.650391   \n",
      "\n",
      "      Adj Close      Volume  \n",
      "0  19864.089844  6482450000  \n",
      "1  20812.240234  6185580000  \n",
      "2  20663.220703  6941970000  \n",
      "3  20940.509766  5392630000  \n",
      "4  21008.650391  6613570000  \n"
     ]
    }
   ],
   "source": [
    "dowjones_stocks = pd.read_csv(\"DJI.csv\")\n",
    "print(dowjones_stocks.head())"
   ]
  },
  {
   "cell_type": "markdown",
   "metadata": {},
   "source": [
    "Load **NFLX_daily_by_quarter.csv** into a DataFrame called `netflix_stocks_quarterly`. Then, quickly inspect the DataFrame using `print()`.\n"
   ]
  },
  {
   "cell_type": "code",
   "execution_count": 81,
   "metadata": {},
   "outputs": [
    {
     "name": "stdout",
     "output_type": "stream",
     "text": [
      "         Date        Open        High         Low       Close   Adj Close  \\\n",
      "0  2017-01-03  124.959999  128.190002  124.309998  127.489998  127.489998   \n",
      "1  2017-01-04  127.489998  130.169998  126.550003  129.410004  129.410004   \n",
      "2  2017-01-05  129.220001  132.750000  128.899994  131.809998  131.809998   \n",
      "3  2017-01-06  132.080002  133.880005  129.809998  131.070007  131.070007   \n",
      "4  2017-01-09  131.479996  131.990005  129.889999  130.949997  130.949997   \n",
      "\n",
      "     Volume Quarter  \n",
      "0   9437900      Q1  \n",
      "1   7843600      Q1  \n",
      "2  10185500      Q1  \n",
      "3  10657900      Q1  \n",
      "4   5766900      Q1  \n"
     ]
    }
   ],
   "source": [
    "netflix_stocks_quarterly = pd.read_csv(\"NFLX_daily_by_quarter.csv\")\n",
    "print(netflix_stocks_quarterly.head())"
   ]
  },
  {
   "cell_type": "markdown",
   "metadata": {},
   "source": [
    "## Step 3"
   ]
  },
  {
   "cell_type": "markdown",
   "metadata": {},
   "source": [
    "Let's learn more about our data. The datasets are large and it may be easier to view the entire dataset locally on your computer. Open the CSV files directly from the folder you downloaded for this project.\n",
    " - `NFLX` is the stock ticker symbol for Netflix and `^DJI` is the stock ticker symbol for the Dow Jones industrial Average, which is why the CSV files are named accordingly\n",
    " - In the Yahoo Data, `Adj Close` is documented as adjusted close price adjusted for both dividends and splits.\n",
    " - You can learn more about why the Dow Jones Industrial Average is a industry reflection of the larger stock market [here](https://www.investopedia.com/terms/d/djia.asp). \n",
    " \n",
    "Answer the following questions by inspecting the data in the **NFLX.csv**,**DJI.csv**, and **NFLX_daily_by_quarter.csv** in your computer."
   ]
  },
  {
   "cell_type": "markdown",
   "metadata": {},
   "source": [
    "What year is represented in the data? Look out for the latest and earliest date."
   ]
  },
  {
   "cell_type": "code",
   "execution_count": 82,
   "metadata": {},
   "outputs": [],
   "source": [
    "#2017 is the year represented in the data. "
   ]
  },
  {
   "cell_type": "markdown",
   "metadata": {},
   "source": [
    "+ Is the data represented by days, weeks, or months? \n",
    "+ In which ways are the files different? \n",
    "+ What's different about the columns for `netflix_stocks` versus `netflix_stocks_quarterly`?"
   ]
  },
  {
   "cell_type": "code",
   "execution_count": 83,
   "metadata": {},
   "outputs": [],
   "source": [
    "# Dow Jones stocks and Netflix stocks both have stock price for first day of each month in 2017.\n",
    "#Both the above datasets have same column attributes\n",
    "# Netflix quarterly stocks - has data for many days of year but not always consecutive days \n",
    "# Quarterly stocks dataset has Quarter column in addition to the columns found in the other 2 sets of data. "
   ]
  },
  {
   "cell_type": "markdown",
   "metadata": {},
   "source": [
    "## Step 4\n",
    "\n",
    "Great! Now that we have spent sometime looking at the data, let's look at the column names of the DataFrame `netflix_stocks` using `.head()`. "
   ]
  },
  {
   "cell_type": "code",
   "execution_count": 84,
   "metadata": {},
   "outputs": [
    {
     "name": "stdout",
     "output_type": "stream",
     "text": [
      "         Date        Open        High         Low       Close   Adj Close  \\\n",
      "0  2017-01-01  124.959999  143.460007  124.309998  140.710007  140.710007   \n",
      "1  2017-02-01  141.199997  145.949997  139.050003  142.130005  142.130005   \n",
      "2  2017-03-01  142.839996  148.289993  138.259995  147.809998  147.809998   \n",
      "3  2017-04-01  146.699997  153.520004  138.660004  152.199997  152.199997   \n",
      "4  2017-05-01  151.910004  164.750000  151.610001  163.070007  163.070007   \n",
      "\n",
      "      Volume  \n",
      "0  181772200  \n",
      "1   91432000  \n",
      "2  110692700  \n",
      "3  149769200  \n",
      "4  116795800  \n"
     ]
    }
   ],
   "source": [
    "print(netflix_stocks.head())"
   ]
  },
  {
   "cell_type": "markdown",
   "metadata": {},
   "source": [
    "What do you notice? The first two column names are one word each, and the only one that is not is `Adj Close`! \n",
    "\n",
    "The term `Adj Close` is a confusing term if you don't read the Yahoo Documentation. In Yahoo, `Adj Close` is documented as adjusted close price adjusted for both dividends and splits.\n",
    "\n",
    "This means this is the column with the true closing price, so these data are very important.\n",
    "\n",
    "Use Pandas to change the name of of the column to `Adj Close` to `Price` so that it is easier to work with the data. Remember to use `inplace=True`.\n",
    "\n",
    "Do this for the Dow Jones and Netflix Quarterly pandas dataframes as well.\n",
    "Hint: Use [`.rename()`](https://pandas.pydata.org/pandas-docs/stable/generated/pandas.DataFrame.rename.html)).\n"
   ]
  },
  {
   "cell_type": "code",
   "execution_count": 85,
   "metadata": {},
   "outputs": [],
   "source": [
    "netflix_stocks.rename(columns={'Adj Close' : 'Price'}, inplace=True)\n",
    "dowjones_stocks.rename(columns={'Adj Close' : 'Price'}, inplace=True)"
   ]
  },
  {
   "cell_type": "markdown",
   "metadata": {},
   "source": [
    "Run `netflix_stocks.head()` again to check your column name has changed."
   ]
  },
  {
   "cell_type": "code",
   "execution_count": 86,
   "metadata": {},
   "outputs": [
    {
     "name": "stdout",
     "output_type": "stream",
     "text": [
      "         Date        Open        High         Low       Close       Price  \\\n",
      "0  2017-01-01  124.959999  143.460007  124.309998  140.710007  140.710007   \n",
      "1  2017-02-01  141.199997  145.949997  139.050003  142.130005  142.130005   \n",
      "2  2017-03-01  142.839996  148.289993  138.259995  147.809998  147.809998   \n",
      "3  2017-04-01  146.699997  153.520004  138.660004  152.199997  152.199997   \n",
      "4  2017-05-01  151.910004  164.750000  151.610001  163.070007  163.070007   \n",
      "\n",
      "      Volume  \n",
      "0  181772200  \n",
      "1   91432000  \n",
      "2  110692700  \n",
      "3  149769200  \n",
      "4  116795800  \n"
     ]
    }
   ],
   "source": [
    "print(netflix_stocks.head())"
   ]
  },
  {
   "cell_type": "markdown",
   "metadata": {},
   "source": [
    "Call `.head()` on the DataFrame `dowjones_stocks` and `netflix_stocks_quarterly`."
   ]
  },
  {
   "cell_type": "code",
   "execution_count": 87,
   "metadata": {},
   "outputs": [
    {
     "data": {
      "text/html": [
       "<div>\n",
       "<style scoped>\n",
       "    .dataframe tbody tr th:only-of-type {\n",
       "        vertical-align: middle;\n",
       "    }\n",
       "\n",
       "    .dataframe tbody tr th {\n",
       "        vertical-align: top;\n",
       "    }\n",
       "\n",
       "    .dataframe thead th {\n",
       "        text-align: right;\n",
       "    }\n",
       "</style>\n",
       "<table border=\"1\" class=\"dataframe\">\n",
       "  <thead>\n",
       "    <tr style=\"text-align: right;\">\n",
       "      <th></th>\n",
       "      <th>Date</th>\n",
       "      <th>Open</th>\n",
       "      <th>High</th>\n",
       "      <th>Low</th>\n",
       "      <th>Close</th>\n",
       "      <th>Adj Close</th>\n",
       "      <th>Volume</th>\n",
       "      <th>Quarter</th>\n",
       "    </tr>\n",
       "  </thead>\n",
       "  <tbody>\n",
       "    <tr>\n",
       "      <th>0</th>\n",
       "      <td>2017-01-03</td>\n",
       "      <td>124.959999</td>\n",
       "      <td>128.190002</td>\n",
       "      <td>124.309998</td>\n",
       "      <td>127.489998</td>\n",
       "      <td>127.489998</td>\n",
       "      <td>9437900</td>\n",
       "      <td>Q1</td>\n",
       "    </tr>\n",
       "    <tr>\n",
       "      <th>1</th>\n",
       "      <td>2017-01-04</td>\n",
       "      <td>127.489998</td>\n",
       "      <td>130.169998</td>\n",
       "      <td>126.550003</td>\n",
       "      <td>129.410004</td>\n",
       "      <td>129.410004</td>\n",
       "      <td>7843600</td>\n",
       "      <td>Q1</td>\n",
       "    </tr>\n",
       "    <tr>\n",
       "      <th>2</th>\n",
       "      <td>2017-01-05</td>\n",
       "      <td>129.220001</td>\n",
       "      <td>132.750000</td>\n",
       "      <td>128.899994</td>\n",
       "      <td>131.809998</td>\n",
       "      <td>131.809998</td>\n",
       "      <td>10185500</td>\n",
       "      <td>Q1</td>\n",
       "    </tr>\n",
       "    <tr>\n",
       "      <th>3</th>\n",
       "      <td>2017-01-06</td>\n",
       "      <td>132.080002</td>\n",
       "      <td>133.880005</td>\n",
       "      <td>129.809998</td>\n",
       "      <td>131.070007</td>\n",
       "      <td>131.070007</td>\n",
       "      <td>10657900</td>\n",
       "      <td>Q1</td>\n",
       "    </tr>\n",
       "    <tr>\n",
       "      <th>4</th>\n",
       "      <td>2017-01-09</td>\n",
       "      <td>131.479996</td>\n",
       "      <td>131.990005</td>\n",
       "      <td>129.889999</td>\n",
       "      <td>130.949997</td>\n",
       "      <td>130.949997</td>\n",
       "      <td>5766900</td>\n",
       "      <td>Q1</td>\n",
       "    </tr>\n",
       "  </tbody>\n",
       "</table>\n",
       "</div>"
      ],
      "text/plain": [
       "         Date        Open        High         Low       Close   Adj Close  \\\n",
       "0  2017-01-03  124.959999  128.190002  124.309998  127.489998  127.489998   \n",
       "1  2017-01-04  127.489998  130.169998  126.550003  129.410004  129.410004   \n",
       "2  2017-01-05  129.220001  132.750000  128.899994  131.809998  131.809998   \n",
       "3  2017-01-06  132.080002  133.880005  129.809998  131.070007  131.070007   \n",
       "4  2017-01-09  131.479996  131.990005  129.889999  130.949997  130.949997   \n",
       "\n",
       "     Volume Quarter  \n",
       "0   9437900      Q1  \n",
       "1   7843600      Q1  \n",
       "2  10185500      Q1  \n",
       "3  10657900      Q1  \n",
       "4   5766900      Q1  "
      ]
     },
     "execution_count": 87,
     "metadata": {},
     "output_type": "execute_result"
    }
   ],
   "source": [
    "dowjones_stocks.head()\n",
    "netflix_stocks_quarterly.head()"
   ]
  },
  {
   "cell_type": "markdown",
   "metadata": {},
   "source": [
    "## Step 5\n",
    "\n",
    "In this step, we will be visualizing the Netflix quarterly data! \n",
    "\n",
    "We want to get an understanding of the distribution of the Netflix quarterly stock prices for 2017. Specifically, we want to see in which quarter stock prices flucutated the most. We can accomplish this using a violin plot with four violins, one for each business quarter!\n",
    "\n",
    "\n",
    "1. Start by creating a variable `ax` and setting it equal to `sns.violinplot()`. This will instantiate a figure and give us access to the axes through the variable name `ax`.\n",
    "2. Use `sns.violinplot()` and pass in the following arguments:\n",
    "+ The `Quarter` column as the `x` values\n",
    "+ The `Price` column as your `y` values\n",
    "+ The `netflix_stocks_quarterly` dataframe as your `data`\n",
    "3. Improve the readability of the chart by adding a title of the plot. Add `\"Distribution of 2017 Netflix Stock Prices by Quarter\"` by using `ax.set_title()`\n",
    "4. Change your `ylabel` to \"Closing Stock Price\"\n",
    "5. Change your `xlabel` to \"Business Quarters in 2017\"\n",
    "6. Be sure to show your plot!\n"
   ]
  },
  {
   "cell_type": "code",
   "execution_count": 88,
   "metadata": {
    "scrolled": true
   },
   "outputs": [
    {
     "data": {
      "image/png": "[encoded data removed]",
      "text/plain": [
       "<Figure size 432x288 with 1 Axes>"
      ]
     },
     "metadata": {},
     "output_type": "display_data"
    }
   ],
   "source": [
    "netflix_stocks_quarterly.rename(columns={'Adj Close' : 'Price'}, inplace=True)\n",
    "ax = sns.violinplot(data = netflix_stocks_quarterly, x = 'Quarter', y = 'Price')\n",
    "ax.set_title(\"Distribution of 2017 Netflix Stock Prices by Quarter\")\n",
    "plt.xlabel(\"Business Quarters in 2017\")\n",
    "plt.ylabel(\"Closing Stock Price\")\n",
    "#plt.show()data:image/png;base64,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\n",
    "plt.savefig(\"Distribution of 2017 Netflix Stock Prices by Quarter.png\")"
   ]
  },
  {
   "cell_type": "markdown",
   "metadata": {},
   "source": [
    "## Graph Literacy\n",
    "- What are your first impressions looking at the visualized data?\n",
    "\n",
    "- In what range(s) did most of the prices fall throughout the year?\n",
    "\n",
    "- What were the highest and lowest prices? "
   ]
  },
  {
   "cell_type": "code",
   "execution_count": 89,
   "metadata": {},
   "outputs": [],
   "source": [
    "# First Impressions, data from quarter 1 and 2,most points distirbuted around the median. Q3 and Q4 most points distributes around\n",
    "#upper quartile. \n",
    "# lowest price in Q1 around 125\n",
    "# Highest price in Q4 around 200-220 \n",
    "# An overall range of 30-40 fall in price throughout the year"
   ]
  },
  {
   "cell_type": "markdown",
   "metadata": {},
   "source": [
    " "
   ]
  },
  {
   "cell_type": "markdown",
   "metadata": {},
   "source": [
    " "
   ]
  },
  {
   "cell_type": "markdown",
   "metadata": {},
   "source": [
    "## Step 6\n",
    "\n",
    "Next, we will chart the performance of the earnings per share (EPS) by graphing the estimate Yahoo projected for the Quarter compared to the actual earnings for that quarters. We will accomplish this using a scatter chart. \n",
    "\n",
    "1. Plot the actual EPS by using `x_positions` and `earnings_actual` with the `plt.scatter()` function. Assign `red` as the color.\n",
    "2. Plot the actual EPS by using `x_positions` and `earnings_estimate` with the `plt.scatter()` function. Assign `blue` as the color\n",
    "\n",
    "3. Often, estimates and actual EPS are the same. To account for this, be sure to set your transparency  `alpha=0.5` to allow for visibility pf overlapping datapoint.\n",
    "4. Add a legend by using `plt.legend()` and passing in a list with two strings `[\"Actual\", \"Estimate\"]`\n",
    "\n",
    "5. Change the `x_ticks` label to reflect each quarter by using `plt.xticks(x_positions, chart_labels)`\n",
    "6. Assing \"`\"Earnings Per Share in Cents\"` as the title of your plot.\n"
   ]
  },
  {
   "cell_type": "code",
   "execution_count": 90,
   "metadata": {},
   "outputs": [
    {
     "data": {
      "image/png": "[encoded data removed]",
      "text/plain": [
       "<Figure size 432x288 with 1 Axes>"
      ]
     },
     "metadata": {},
     "output_type": "display_data"
    }
   ],
   "source": [
    "x_positions = [1, 2, 3, 4]\n",
    "chart_labels = [\"1Q2017\",\"2Q2017\",\"3Q2017\",\"4Q2017\"]\n",
    "earnings_actual =[.4, .15,.29,.41]\n",
    "earnings_estimate = [.37,.15,.32,.41 ]\n",
    "\n",
    "sns.set_style('whitegrid')\n",
    "plt.scatter(x_positions, earnings_actual,  color = 'red', alpha = 0.5)\n",
    "#plt.show()if have this after the 1st graph = 2 seperate graphs \n",
    "\n",
    "plt.scatter(x_positions, earnings_estimate, color = 'blue', alpha = 0.5)\n",
    "plt.legend([\"Actual\", \"Estimate\"])\n",
    "plt.xticks(x_positions, chart_labels)\n",
    "plt.ylabel(\"Earnings\")\n",
    "plt.title(\"Earnings Per Share in Cents\")\n",
    "plt.savefig(\"Earnings_per_share in cents.png\")\n"
   ]
  },
  {
   "cell_type": "markdown",
   "metadata": {
    "collapsed": true
   },
   "source": [
    "## Graph Literacy\n",
    "\n",
    "+ What do the purple dots tell us about the actual and estimate earnings per share in this graph? Hint: In color theory red and blue mix to make purple.\n"
   ]
  },
  {
   "cell_type": "markdown",
   "metadata": {},
   "source": [
    " "
   ]
  },
  {
   "cell_type": "code",
   "execution_count": 91,
   "metadata": {},
   "outputs": [],
   "source": [
    "# In Q2 and Q4 of 2017. The actual earnings were the same as the estimate earninhs per share. \n",
    "\n",
    "earnings_actual =[.4, .15,.29,.41]\n",
    "earnings_estimate = [.37,.15,.32,.41 ]\n",
    "\n",
    "#0.4 - 0.37 = 0.03 cents difference actual higher in q1\n",
    "# 0.32 - 0.29 = 0.03 cents difference, estimate higher in q3 \n",
    "\n",
    "\n"
   ]
  },
  {
   "cell_type": "markdown",
   "metadata": {},
   "source": [
    " "
   ]
  },
  {
   "cell_type": "markdown",
   "metadata": {},
   "source": [
    "## Step 7"
   ]
  },
  {
   "cell_type": "markdown",
   "metadata": {},
   "source": [
    "Next, we will visualize the earnings and revenue reported by Netflix by mapping two bars side-by-side. We have visualized a similar chart in the second Matplotlib lesson [Exercise 4](https://www.codecademy.com/courses/learn-matplotlib/lessons/matplotlib-ii/exercises/side-by-side-bars).\n",
    "\n",
    "As you may recall, plotting side-by-side bars in Matplotlib requires computing the width of each bar before hand. We have pasted the starter code for that exercise below. \n",
    "\n",
    "1. Fill in the `n`, `t`, `d`, `w` values for the revenue bars\n",
    "2. Plot the revenue bars by calling `plt.bar()` with the newly computed `x_values` and the `revenue_by_quarter` data\n",
    "3. Fill in the `n`, `t`, `d`, `w` values for the earnings bars\n",
    "4. Plot the revenue bars by calling `plt.bar()` with the newly computed `x_values` and the `earnings_by_quarter` data\n",
    "5. Create a legend for your bar chart with the `labels` provided\n",
    "6. Add a descriptive title for your chart with `plt.title()`\n",
    "7. Add labels to each quarter by assigning the position of the ticks through the code provided. Hint:  `plt.xticks(middle_x, quarter_labels)`\n",
    "8. Be sure to show your plot!\n"
   ]
  },
  {
   "cell_type": "code",
   "execution_count": 92,
   "metadata": {},
   "outputs": [
    {
     "data": {
      "image/png": "[encoded data removed]",
      "text/plain": [
       "<Figure size 432x288 with 1 Axes>"
      ]
     },
     "metadata": {},
     "output_type": "display_data"
    }
   ],
   "source": [
    "# The metrics below are in billions of dollars\n",
    "revenue_by_quarter = [2.79, 2.98,3.29,3.7]\n",
    "earnings_by_quarter = [.0656,.12959,.18552,.29012]\n",
    "quarter_labels = [\"2Q2017\",\"3Q2017\",\"4Q2017\", \"1Q2018\"]\n",
    "\n",
    "sns.set_style('whitegrid')\n",
    "# Revenue\n",
    "n = 1  # This is our first dataset (out of 2)\n",
    "t = 2 # Number of datasets\n",
    "d = 4 # Number of sets of bars\n",
    "w = 0.8 # Width of each bar\n",
    "bars1_x = [t*element + w*n for element\n",
    "             in range(d)]\n",
    "\n",
    "plt.bar(bars1_x, revenue_by_quarter, color = 'red')\n",
    "\n",
    "# Earnings\n",
    "n = 2  # This is our second dataset (out of 2)\n",
    "t = 2 # Number of dataset\n",
    "d = 4 # Number of sets of bars\n",
    "w = 0.8 # Width of each bar\n",
    "bars2_x = [t*element + w*n for element\n",
    "             in range(d)]\n",
    "\n",
    "\n",
    "plt.bar(bars2_x, earnings_by_quarter)\n",
    "\n",
    "\n",
    "\n",
    "middle_x = [ (a + b) / 2.0 for a, b in zip(bars1_x, bars2_x)]\n",
    "labels = [\"Revenue\", \"Earnings\"]\n",
    "\n",
    "\n",
    "\n",
    "plt.legend(labels)\n",
    "plt.title(\"How does Revenue and Earnings compare per quarter?\")\n",
    "plt.xticks(middle_x, quarter_labels)\n",
    "plt.ylabel(\"USD in billions\")\n",
    "\n",
    "plt.savefig(\"Comparison of Revenue and Earnings per quarter.png\")"
   ]
  },
  {
   "cell_type": "markdown",
   "metadata": {},
   "source": [
    "## Graph Literacy\n",
    "What are your first impressions looking at the visualized data?\n",
    "\n",
    "- Does Revenue follow a trend?\n",
    "- Do Earnings follow a trend?\n",
    "- Roughly, what percentage of the revenue constitutes earnings?"
   ]
  },
  {
   "cell_type": "code",
   "execution_count": 93,
   "metadata": {},
   "outputs": [],
   "source": [
    "# Revenue increased per quarter\n",
    "# Earnings increased per quarter\n",
    "# Earnings represent about 0.01 to 0.3% of revenue.  \n",
    "# [2.79, 2.98,3.29,3.7]\n",
    "#earnings_by_quarter = [.0656,.12959,.18552,.29012]\n",
    "# q1 = 0.0656 / 2.79 = 0.235 * 100 = 2.35%\n",
    "# 92 = 0.12959 / 2.98 = 0.348 * 100 = 4.35%\n",
    "# q3 = 0.18552 / 3.29 = 0.056 * 100 = 5.64%\n",
    "# q4 = 0.29012 / 3.7 = 0.078 * 100 = 7.84%"
   ]
  },
  {
   "cell_type": "markdown",
   "metadata": {},
   "source": [
    "## Step 8\n",
    "\n",
    "In this last step, we will compare Netflix stock to the Dow Jones Industrial Average in 2017. We will accomplish this by plotting two line charts side by side in one figure. \n",
    "\n",
    "Since `Price` which is the most relevant data is in the Y axis, let's map our subplots to align vertically side by side.\n",
    "- We have set up the code for you on line 1 in the cell below. Complete the figure by passing the following arguments to `plt.subplots()` for the first plot, and tweaking the third argument for the second plot\n",
    "    - `1`-- the number of rows for the subplots\n",
    "    - `2` -- the number of columns for the subplots\n",
    "    - `1` -- the subplot you are modifying\n",
    "\n",
    "- Chart the Netflix Stock Prices in the left-hand subplot. Using your data frame, access the `Date` and `Price` charts as the x and y axes respectively. Hint: (`netflix_stocks['Date'], netflix_stocks['Price']`)\n",
    "- Assign \"Netflix\" as a title to this subplot. Hint: `ax1.set_title()`\n",
    "- For each subplot, `set_xlabel` to `\"Date\"` and `set_ylabel` to `\"Stock Price\"`\n",
    "- Chart the Dow Jones Stock Prices in the left-hand subplot. Using your data frame, access the `Date` and `Price` charts as the x and y axes respectively. Hint: (`dowjones_stocks['Date'], dowjones_stocks['Price']`)\n",
    "- Assign \"Dow Jones\" as a title to this subplot. Hint: `plt.set_title()`\n",
    "- There is some crowding in the Y axis labels, add some space by calling `plt.subplots_adjust(wspace=.5)`\n",
    "- Be sure to `.show()` your plots.\n"
   ]
  },
  {
   "cell_type": "code",
   "execution_count": 94,
   "metadata": {},
   "outputs": [
    {
     "data": {
      "image/png": "[encoded data removed]",
      "text/plain": [
       "<Figure size 432x288 with 2 Axes>"
      ]
     },
     "metadata": {},
     "output_type": "display_data"
    }
   ],
   "source": [
    "\n",
    "# Left plot Netflix\n",
    "ax1 = plt.subplot(1, 2, 1)\n",
    "ax1.plot(netflix_stocks['Date'], netflix_stocks['Price'])\n",
    "ax1.set_title(\"Netflix\")\n",
    "ax1.set_xticklabels(netflix_stocks['Date'], rotation = 90, ha = 'right')\n",
    "ax1.set_ylabel(\"Stock Price\")\n",
    "\n",
    "\n",
    "\n",
    "\n",
    "# Right plot Dow Jones\n",
    "ax2 = plt.subplot(1,2,2)\n",
    "ax2.plot(dowjones_stocks['Date'], dowjones_stocks['Price'])\n",
    "ax2.set_title(\"Dow Jones\")\n",
    "ax2.set_xticklabels(netflix_stocks['Date'], rotation = 90, ha = 'right')\n",
    "ax2.set_ylabel(\"Stock Price\")\n",
    "\n",
    "sns.set_style('whitegrid')\n",
    "plt.subplots_adjust(wspace = 0.5, hspace = 1.0)\n",
    "\n",
    "\n",
    "\n",
    "#plt.show()\n",
    "\n",
    "plt.savefig(\"Netflix and DowJones stock price comparison.png\")"
   ]
  },
  {
   "cell_type": "markdown",
   "metadata": {},
   "source": [
    "- How did Netflix perform relative to Dow Jones Industrial Average in 2017?\n",
    "- Which was more volatile?\n",
    "- How do the prices of the stocks compare?"
   ]
  },
  {
   "cell_type": "code",
   "execution_count": 95,
   "metadata": {},
   "outputs": [],
   "source": [
    "# Similar shape to graphs i.e general increase in price as a trend - but price much lower for Netflix and \n",
    "# Netflix stock appears more volatile, in that there were much sharper decreases in Stock Price\n",
    "# Netlfix stock price much lower than Dow Jones Industrial average "
   ]
  },
  {
   "cell_type": "markdown",
   "metadata": {},
   "source": [
    " "
   ]
  },
  {
   "cell_type": "markdown",
   "metadata": {},
   "source": [
    "# Step 9\n",
    "\n",
    "It's time to make your presentation! Save each of your visualizations as a png file with `plt.savefig(\"filename.png\")`.\n",
    "\n",
    "As you prepare your slides, think about the answers to the graph literacy questions. Embed your observations in the narrative of your slideshow!\n",
    "\n",
    "Remember that your slideshow must include:\n",
    "- A title slide\n",
    "- A list of your visualizations and your role in their creation for the \"Stock Profile\" team\n",
    "- A visualization of the distribution of the stock prices for Netflix in 2017\n",
    "- A visualization and a summary of Netflix stock and revenue for the past four quarters and a summary\n",
    "- A visualization and a brief summary of their earned versus actual earnings per share\n",
    "- A visualization of Netflix stock against the Dow Jones stock (to get a sense of the market) in 2017\n"
   ]
  },
  {
   "cell_type": "code",
   "execution_count": null,
   "metadata": {},
   "outputs": [],
   "source": [
    "# Presentation uploaded to github "
   ]
  }
 ],
 "metadata": {
  "kernelspec": {
   "display_name": "Python 3",
   "language": "python",
   "name": "python3"
  },
  "language_info": {
   "codemirror_mode": {
    "name": "ipython",
    "version": 3
   },
   "file_extension": ".py",
   "mimetype": "text/x-python",
   "name": "python",
   "nbconvert_exporter": "python",
   "pygments_lexer": "ipython3",
   "version": "3.7.4"
  }
 },
 "nbformat": 4,
 "nbformat_minor": 2
}
